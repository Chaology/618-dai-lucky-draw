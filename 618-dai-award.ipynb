{
 "cells": [
  {
   "cell_type": "code",
   "execution_count": 1,
   "metadata": {},
   "outputs": [],
   "source": [
    "import random"
   ]
  },
  {
   "cell_type": "code",
   "execution_count": 2,
   "metadata": {},
   "outputs": [],
   "source": [
    "user_list = ['耳東尘','棒棒糖f旭', '瑞琍', '我不想努力了', '点点点', '暗夜骑士', '风吹一池皱', '小0', '大梦','林晓 ShawnRingLin', '云的故乡',\n",
    "'alex', '葱花🌸', '跟着chu长去挖矿', '元', 'outsider','厚德载物', '鱼的记忆', '大漠👫 先生', 'Vera',\n",
    "'汤圆', 'SpiderDEX管家', '肖华', '区块淘金', '晨枫', '唯风', '微微一笑', 'Gateio.la家的七月', '陈晨', '幸福来敲蒙',\n",
    "'Alina', '强哥', 'Jason Zhang', '小时', '走来走去', '一叶云彩.', '九月九', '卢一铨',\n",
    "'风花雪月', '婷婷', '上善若水Ab@NovaNode', '奎伯', '程~娆', 'lei', '婷婷', 'Arena', 'bb', '山高林为峰', '小七', '牛奶', 'God',\n",
    "'Hoopunipuni', '雪人', '崔', '谁的青春不折腾', '胡',\n",
    "'正东ZZ', '元', '烈酒', '暗夜骑士', 'C · L', '我不想努力了', '一诺千金', '俊涛', 'Victor 纪', '莫', '夜雨', '张文杰',\n",
    "'肆 ......', '有来无去(已购举报双封)', '梦兄弟', '家和万事兴',\n",
    "'大qing', 'yang', 'Mako', '俊涛', '曾*涛', '楠风Sr', 'Mind Frame', '海闊天空', '华福家纺', 'i', '灵魂', 'Neo', '自知者明',\n",
    "'曹宏宇', 'Conflux FANS', '0', '？',\n",
    "'天天喝小米', '邹先生', 'nobody', '小盖🏃', '呆萌的仓鼠', '呆萌的仓鼠', '李小龙', '一兜子', '信史MR', '饭饭',\n",
    "'徐安扬 东方龙广告13872772099','靖哥', '超侃Real', '头顶星空', '林明', '官生', '坐 庄', '123', '艺烔', '老肖','醉清风', '三豐@HZ',\n",
    "'忘了', 'Connie', '🔥胖不了', 'Lecky Lao | vrcorner.com.au', 'Æ86','笔戈', '黑猫', '幸福来敲蒙', '品中法龙（全哥）',\n",
    "'北纬', '靖哥', '经纬90', 'A好又多超市', 'ZT', '余銘缘', '邹先松', 'K.Seven', 'Ariel',\n",
    "'winny', '加油鸭Biu', 'forgiven', 'Bernard', 'Nick', 'Vilimjys', '绿巨人区块链CEO-伍尔基']"
   ]
  },
  {
   "cell_type": "code",
   "execution_count": 3,
   "metadata": {},
   "outputs": [
    {
     "data": {
      "text/plain": [
       "['outsider', 'Ariel', '三豐@HZ', '区块淘金', '艺烔', '元', '李小龙', '瑞琍', '胡', '风吹一池皱']"
      ]
     },
     "execution_count": 3,
     "metadata": {},
     "output_type": "execute_result"
    }
   ],
   "source": [
    "random.choices(user_list, k=10)"
   ]
  }
 ],
 "metadata": {
  "kernelspec": {
   "display_name": "Python 3",
   "language": "python",
   "name": "python3"
  },
  "language_info": {
   "codemirror_mode": {
    "name": "ipython",
    "version": 3
   },
   "file_extension": ".py",
   "mimetype": "text/x-python",
   "name": "python",
   "nbconvert_exporter": "python",
   "pygments_lexer": "ipython3",
   "version": "3.6.3"
  }
 },
 "nbformat": 4,
 "nbformat_minor": 1
}
